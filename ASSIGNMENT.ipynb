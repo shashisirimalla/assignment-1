{
 "cells": [
  {
   "cell_type": "code",
   "execution_count": 7,
   "id": "96ee6dd2",
   "metadata": {},
   "outputs": [
    {
     "name": "stdout",
     "output_type": "stream",
     "text": [
      "ENTER THE WORD: EDYODA\n",
      "ADOYDE\n"
     ]
    }
   ],
   "source": [
    "the_input = input('ENTER THE WORD: ')\n",
    "reversed = the_input[::-1]\n",
    "print(reversed)"
   ]
  },
  {
   "cell_type": "code",
   "execution_count": 20,
   "id": "bb18c918",
   "metadata": {},
   "outputs": [
    {
     "name": "stdout",
     "output_type": "stream",
     "text": [
      "1\n",
      "1\n",
      "2\n",
      "3\n",
      "5\n",
      "8\n",
      "13\n",
      "21\n",
      "34\n"
     ]
    }
   ],
   "source": [
    "n1 , n2 = 0 , 1\n",
    "while n2<50:\n",
    "    print(n2)\n",
    "    n1,n2=n2,n1+n2\n",
    "\n",
    "\n"
   ]
  },
  {
   "cell_type": "code",
   "execution_count": 21,
   "id": "17fd6ae6",
   "metadata": {},
   "outputs": [
    {
     "name": "stdout",
     "output_type": "stream",
     "text": [
      "even number count 4\n",
      "odd number count 4\n"
     ]
    }
   ],
   "source": [
    "l1=[10,11,13,20,40,53,77,80]\n",
    "even_count,odd_count = 0,0\n",
    "for i in l1:\n",
    "    if i % 2==0:\n",
    "      even_count+= 1\n",
    "    else:\n",
    "      odd_count+=1\n",
    "print('even number count', even_count )\n",
    "print('odd number count', odd_count )\n",
    "\n",
    "\n",
    "    "
   ]
  },
  {
   "cell_type": "code",
   "execution_count": null,
   "id": "d6a35db1",
   "metadata": {},
   "outputs": [],
   "source": []
  }
 ],
 "metadata": {
  "kernelspec": {
   "display_name": "Python 3 (ipykernel)",
   "language": "python",
   "name": "python3"
  },
  "language_info": {
   "codemirror_mode": {
    "name": "ipython",
    "version": 3
   },
   "file_extension": ".py",
   "mimetype": "text/x-python",
   "name": "python",
   "nbconvert_exporter": "python",
   "pygments_lexer": "ipython3",
   "version": "3.9.13"
  }
 },
 "nbformat": 4,
 "nbformat_minor": 5
}
